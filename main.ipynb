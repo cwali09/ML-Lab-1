{
 "cells": [
  {
   "cell_type": "markdown",
   "source": [
    "TODO: Wali - Delete this Rubric before submitting\n",
    "\n",
    "[1.5 points] In your own words, give an overview of the dataset. Describe the purpose of the data set you selected (i.e., why and how was this data collected in the first place?). What is the prediction task for your data and why are other third parties interested in the result? Once you begin modeling, how well would your prediction algorithm need to perform to be considered useful to these third parties?\n",
    "Be specific and use your own words to describe the aspects of the data."
   ],
   "metadata": {
    "collapsed": false
   }
  },
  {
   "cell_type": "markdown",
   "source": [
    "1. Business Understanding\n",
    "\n",
    "The \"Hotels Reservation\" dataset was uploaded by \"Ahsan Raza\" on kaggle in an effort to discover patterns in online-booking tendencies of hotel customers, specifically if a customer would honor the reservation or if they would cancel it. The data was collected from a single country which cannot be disclosed for privacy reasons as stated by Ahsan in the Kaggle discussion posts.\n",
    "\n",
    "The datasets description states there have been major issues in the Hotel industry in regard to consumer online booking activity. The convenience and low to little cost of cancelling an online-booking has led to a significant change in consumer behavior. A large number of cancellations include changes of plans, scheduling conflicts, etc. Ahsan describes this convenient cancellation feature as \"beneficial to hotel guests, but less desirable and possible revenue diminishing for hotels\".\n",
    "\n",
    "One can use this dataset to predict if a consumer will honor their reservation or not. Parties that may be interested in the classification result may be those employed in Hotel Management, or management from any industry that deals with an online reservation format such as restaurants, resorts, or motels. A hotel manager will be able to gain insight as to why certain customers may be more prone to online cancelling.\n",
    "\n",
    "The dataset contains 19 features, 13 numerical and 6 categorical.\n",
    "\n",
    "\n",
    "1.1 Measure of Success\n",
    "So, what defines a successful machine learning algorithm?\n",
    "Due to the non-critical nature of hotel cancellations, it is safe to assume that a good model should be able to predict more accurately than random occurrence (50/50). For a business with a more aggressive strategy to produce profit, baseline of 80% for the classification rate may be ideal."
   ],
   "metadata": {
    "collapsed": false
   }
  },
  {
   "cell_type": "markdown",
   "source": [
    "2. Data Understanding"
   ],
   "metadata": {
    "collapsed": false
   }
  },
  {
   "cell_type": "markdown",
   "source": [
    "TODO: Wali - Delete this Rubric before submitting\n",
    "Data Understanding (3 points total)\n",
    "\n",
    "[1.5 points] Load the dataset and appropriately define data types. What data type should be used to represent each data attribute? Discuss the attributes collected in the dataset. For datasets with a large number of attributes, only discuss a subset of relevant attributes.\n",
    "[1.5 points] Verify data quality: Explain any missing values or duplicate data. Visualize entries that are missing/complete for different attributes. Are those mistakes? Why do these quality issues exist in the data? How do you deal with these problems? Give justifications for your methods (elimination or imputation)."
   ],
   "metadata": {
    "collapsed": false
   }
  },
  {
   "cell_type": "code",
   "execution_count": 37,
   "outputs": [],
   "source": [
    "import pandas as pd\n",
    "import numpy as np\n",
    "\n",
    "# Typings\n",
    "from pandas import ( DataFrame, Series )\n",
    "from numpy import ndarray\n",
    "\n",
    "df: DataFrame = pd.read_csv(\"Hotel Reservations.csv\")"
   ],
   "metadata": {
    "collapsed": false
   }
  },
  {
   "cell_type": "code",
   "execution_count": 38,
   "outputs": [
    {
     "data": {
      "text/plain": "  Booking_ID  no_of_adults  no_of_children  no_of_weekend_nights  \\\n0   INN00001             2               0                     1   \n1   INN00002             2               0                     2   \n2   INN00003             1               0                     2   \n3   INN00004             2               0                     0   \n4   INN00005             2               0                     1   \n\n   no_of_week_nights type_of_meal_plan  required_car_parking_space  \\\n0                  2       Meal Plan 1                           0   \n1                  3      Not Selected                           0   \n2                  1       Meal Plan 1                           0   \n3                  2       Meal Plan 1                           0   \n4                  1      Not Selected                           0   \n\n  room_type_reserved  lead_time  arrival_year  arrival_month  arrival_date  \\\n0        Room_Type 1        224          2017             10             2   \n1        Room_Type 1          5          2018             11             6   \n2        Room_Type 1          1          2018              2            28   \n3        Room_Type 1        211          2018              5            20   \n4        Room_Type 1         48          2018              4            11   \n\n  market_segment_type  repeated_guest  no_of_previous_cancellations  \\\n0             Offline               0                             0   \n1              Online               0                             0   \n2              Online               0                             0   \n3              Online               0                             0   \n4              Online               0                             0   \n\n   no_of_previous_bookings_not_canceled  avg_price_per_room  \\\n0                                     0               65.00   \n1                                     0              106.68   \n2                                     0               60.00   \n3                                     0              100.00   \n4                                     0               94.50   \n\n   no_of_special_requests booking_status  \n0                       0   Not_Canceled  \n1                       1   Not_Canceled  \n2                       0       Canceled  \n3                       0       Canceled  \n4                       0       Canceled  ",
      "text/html": "<div>\n<style scoped>\n    .dataframe tbody tr th:only-of-type {\n        vertical-align: middle;\n    }\n\n    .dataframe tbody tr th {\n        vertical-align: top;\n    }\n\n    .dataframe thead th {\n        text-align: right;\n    }\n</style>\n<table border=\"1\" class=\"dataframe\">\n  <thead>\n    <tr style=\"text-align: right;\">\n      <th></th>\n      <th>Booking_ID</th>\n      <th>no_of_adults</th>\n      <th>no_of_children</th>\n      <th>no_of_weekend_nights</th>\n      <th>no_of_week_nights</th>\n      <th>type_of_meal_plan</th>\n      <th>required_car_parking_space</th>\n      <th>room_type_reserved</th>\n      <th>lead_time</th>\n      <th>arrival_year</th>\n      <th>arrival_month</th>\n      <th>arrival_date</th>\n      <th>market_segment_type</th>\n      <th>repeated_guest</th>\n      <th>no_of_previous_cancellations</th>\n      <th>no_of_previous_bookings_not_canceled</th>\n      <th>avg_price_per_room</th>\n      <th>no_of_special_requests</th>\n      <th>booking_status</th>\n    </tr>\n  </thead>\n  <tbody>\n    <tr>\n      <th>0</th>\n      <td>INN00001</td>\n      <td>2</td>\n      <td>0</td>\n      <td>1</td>\n      <td>2</td>\n      <td>Meal Plan 1</td>\n      <td>0</td>\n      <td>Room_Type 1</td>\n      <td>224</td>\n      <td>2017</td>\n      <td>10</td>\n      <td>2</td>\n      <td>Offline</td>\n      <td>0</td>\n      <td>0</td>\n      <td>0</td>\n      <td>65.00</td>\n      <td>0</td>\n      <td>Not_Canceled</td>\n    </tr>\n    <tr>\n      <th>1</th>\n      <td>INN00002</td>\n      <td>2</td>\n      <td>0</td>\n      <td>2</td>\n      <td>3</td>\n      <td>Not Selected</td>\n      <td>0</td>\n      <td>Room_Type 1</td>\n      <td>5</td>\n      <td>2018</td>\n      <td>11</td>\n      <td>6</td>\n      <td>Online</td>\n      <td>0</td>\n      <td>0</td>\n      <td>0</td>\n      <td>106.68</td>\n      <td>1</td>\n      <td>Not_Canceled</td>\n    </tr>\n    <tr>\n      <th>2</th>\n      <td>INN00003</td>\n      <td>1</td>\n      <td>0</td>\n      <td>2</td>\n      <td>1</td>\n      <td>Meal Plan 1</td>\n      <td>0</td>\n      <td>Room_Type 1</td>\n      <td>1</td>\n      <td>2018</td>\n      <td>2</td>\n      <td>28</td>\n      <td>Online</td>\n      <td>0</td>\n      <td>0</td>\n      <td>0</td>\n      <td>60.00</td>\n      <td>0</td>\n      <td>Canceled</td>\n    </tr>\n    <tr>\n      <th>3</th>\n      <td>INN00004</td>\n      <td>2</td>\n      <td>0</td>\n      <td>0</td>\n      <td>2</td>\n      <td>Meal Plan 1</td>\n      <td>0</td>\n      <td>Room_Type 1</td>\n      <td>211</td>\n      <td>2018</td>\n      <td>5</td>\n      <td>20</td>\n      <td>Online</td>\n      <td>0</td>\n      <td>0</td>\n      <td>0</td>\n      <td>100.00</td>\n      <td>0</td>\n      <td>Canceled</td>\n    </tr>\n    <tr>\n      <th>4</th>\n      <td>INN00005</td>\n      <td>2</td>\n      <td>0</td>\n      <td>1</td>\n      <td>1</td>\n      <td>Not Selected</td>\n      <td>0</td>\n      <td>Room_Type 1</td>\n      <td>48</td>\n      <td>2018</td>\n      <td>4</td>\n      <td>11</td>\n      <td>Online</td>\n      <td>0</td>\n      <td>0</td>\n      <td>0</td>\n      <td>94.50</td>\n      <td>0</td>\n      <td>Canceled</td>\n    </tr>\n  </tbody>\n</table>\n</div>"
     },
     "execution_count": 38,
     "metadata": {},
     "output_type": "execute_result"
    }
   ],
   "source": [
    "df.head()"
   ],
   "metadata": {
    "collapsed": false
   }
  },
  {
   "cell_type": "code",
   "execution_count": 39,
   "outputs": [
    {
     "name": "stdout",
     "output_type": "stream",
     "text": [
      "<class 'pandas.core.frame.DataFrame'>\n",
      "RangeIndex: 36275 entries, 0 to 36274\n",
      "Data columns (total 19 columns):\n",
      " #   Column                                Non-Null Count  Dtype  \n",
      "---  ------                                --------------  -----  \n",
      " 0   Booking_ID                            36275 non-null  object \n",
      " 1   no_of_adults                          36275 non-null  int64  \n",
      " 2   no_of_children                        36275 non-null  int64  \n",
      " 3   no_of_weekend_nights                  36275 non-null  int64  \n",
      " 4   no_of_week_nights                     36275 non-null  int64  \n",
      " 5   type_of_meal_plan                     36275 non-null  object \n",
      " 6   required_car_parking_space            36275 non-null  int64  \n",
      " 7   room_type_reserved                    36275 non-null  object \n",
      " 8   lead_time                             36275 non-null  int64  \n",
      " 9   arrival_year                          36275 non-null  int64  \n",
      " 10  arrival_month                         36275 non-null  int64  \n",
      " 11  arrival_date                          36275 non-null  int64  \n",
      " 12  market_segment_type                   36275 non-null  object \n",
      " 13  repeated_guest                        36275 non-null  int64  \n",
      " 14  no_of_previous_cancellations          36275 non-null  int64  \n",
      " 15  no_of_previous_bookings_not_canceled  36275 non-null  int64  \n",
      " 16  avg_price_per_room                    36275 non-null  float64\n",
      " 17  no_of_special_requests                36275 non-null  int64  \n",
      " 18  booking_status                        36275 non-null  object \n",
      "dtypes: float64(1), int64(13), object(5)\n",
      "memory usage: 5.3+ MB\n"
     ]
    }
   ],
   "source": [
    "# Define data types\n",
    "df.info()"
   ],
   "metadata": {
    "collapsed": false
   }
  },
  {
   "cell_type": "markdown",
   "source": [
    "After getting the datatypes of each of the features, we can see that some of them are objects.\n",
    "We must transform those into a numerical value for our machine learning algorithms to properly process them."
   ],
   "metadata": {
    "collapsed": false
   }
  },
  {
   "cell_type": "code",
   "execution_count": 40,
   "outputs": [
    {
     "data": {
      "text/plain": "       no_of_adults  no_of_children  no_of_weekend_nights  no_of_week_nights  \\\ncount  36275.000000    36275.000000          36275.000000       36275.000000   \nmean       1.844962        0.105279              0.810724           2.204300   \nstd        0.518715        0.402648              0.870644           1.410905   \nmin        0.000000        0.000000              0.000000           0.000000   \n25%        2.000000        0.000000              0.000000           1.000000   \n50%        2.000000        0.000000              1.000000           2.000000   \n75%        2.000000        0.000000              2.000000           3.000000   \nmax        4.000000       10.000000              7.000000          17.000000   \n\n       required_car_parking_space     lead_time  arrival_year  arrival_month  \\\ncount                36275.000000  36275.000000  36275.000000   36275.000000   \nmean                     0.030986     85.232557   2017.820427       7.423653   \nstd                      0.173281     85.930817      0.383836       3.069894   \nmin                      0.000000      0.000000   2017.000000       1.000000   \n25%                      0.000000     17.000000   2018.000000       5.000000   \n50%                      0.000000     57.000000   2018.000000       8.000000   \n75%                      0.000000    126.000000   2018.000000      10.000000   \nmax                      1.000000    443.000000   2018.000000      12.000000   \n\n       arrival_date  repeated_guest  no_of_previous_cancellations  \\\ncount  36275.000000    36275.000000                  36275.000000   \nmean      15.596995        0.025637                      0.023349   \nstd        8.740447        0.158053                      0.368331   \nmin        1.000000        0.000000                      0.000000   \n25%        8.000000        0.000000                      0.000000   \n50%       16.000000        0.000000                      0.000000   \n75%       23.000000        0.000000                      0.000000   \nmax       31.000000        1.000000                     13.000000   \n\n       no_of_previous_bookings_not_canceled  avg_price_per_room  \\\ncount                          36275.000000        36275.000000   \nmean                               0.153411          103.423539   \nstd                                1.754171           35.089424   \nmin                                0.000000            0.000000   \n25%                                0.000000           80.300000   \n50%                                0.000000           99.450000   \n75%                                0.000000          120.000000   \nmax                               58.000000          540.000000   \n\n       no_of_special_requests  \ncount            36275.000000  \nmean                 0.619655  \nstd                  0.786236  \nmin                  0.000000  \n25%                  0.000000  \n50%                  0.000000  \n75%                  1.000000  \nmax                  5.000000  ",
      "text/html": "<div>\n<style scoped>\n    .dataframe tbody tr th:only-of-type {\n        vertical-align: middle;\n    }\n\n    .dataframe tbody tr th {\n        vertical-align: top;\n    }\n\n    .dataframe thead th {\n        text-align: right;\n    }\n</style>\n<table border=\"1\" class=\"dataframe\">\n  <thead>\n    <tr style=\"text-align: right;\">\n      <th></th>\n      <th>no_of_adults</th>\n      <th>no_of_children</th>\n      <th>no_of_weekend_nights</th>\n      <th>no_of_week_nights</th>\n      <th>required_car_parking_space</th>\n      <th>lead_time</th>\n      <th>arrival_year</th>\n      <th>arrival_month</th>\n      <th>arrival_date</th>\n      <th>repeated_guest</th>\n      <th>no_of_previous_cancellations</th>\n      <th>no_of_previous_bookings_not_canceled</th>\n      <th>avg_price_per_room</th>\n      <th>no_of_special_requests</th>\n    </tr>\n  </thead>\n  <tbody>\n    <tr>\n      <th>count</th>\n      <td>36275.000000</td>\n      <td>36275.000000</td>\n      <td>36275.000000</td>\n      <td>36275.000000</td>\n      <td>36275.000000</td>\n      <td>36275.000000</td>\n      <td>36275.000000</td>\n      <td>36275.000000</td>\n      <td>36275.000000</td>\n      <td>36275.000000</td>\n      <td>36275.000000</td>\n      <td>36275.000000</td>\n      <td>36275.000000</td>\n      <td>36275.000000</td>\n    </tr>\n    <tr>\n      <th>mean</th>\n      <td>1.844962</td>\n      <td>0.105279</td>\n      <td>0.810724</td>\n      <td>2.204300</td>\n      <td>0.030986</td>\n      <td>85.232557</td>\n      <td>2017.820427</td>\n      <td>7.423653</td>\n      <td>15.596995</td>\n      <td>0.025637</td>\n      <td>0.023349</td>\n      <td>0.153411</td>\n      <td>103.423539</td>\n      <td>0.619655</td>\n    </tr>\n    <tr>\n      <th>std</th>\n      <td>0.518715</td>\n      <td>0.402648</td>\n      <td>0.870644</td>\n      <td>1.410905</td>\n      <td>0.173281</td>\n      <td>85.930817</td>\n      <td>0.383836</td>\n      <td>3.069894</td>\n      <td>8.740447</td>\n      <td>0.158053</td>\n      <td>0.368331</td>\n      <td>1.754171</td>\n      <td>35.089424</td>\n      <td>0.786236</td>\n    </tr>\n    <tr>\n      <th>min</th>\n      <td>0.000000</td>\n      <td>0.000000</td>\n      <td>0.000000</td>\n      <td>0.000000</td>\n      <td>0.000000</td>\n      <td>0.000000</td>\n      <td>2017.000000</td>\n      <td>1.000000</td>\n      <td>1.000000</td>\n      <td>0.000000</td>\n      <td>0.000000</td>\n      <td>0.000000</td>\n      <td>0.000000</td>\n      <td>0.000000</td>\n    </tr>\n    <tr>\n      <th>25%</th>\n      <td>2.000000</td>\n      <td>0.000000</td>\n      <td>0.000000</td>\n      <td>1.000000</td>\n      <td>0.000000</td>\n      <td>17.000000</td>\n      <td>2018.000000</td>\n      <td>5.000000</td>\n      <td>8.000000</td>\n      <td>0.000000</td>\n      <td>0.000000</td>\n      <td>0.000000</td>\n      <td>80.300000</td>\n      <td>0.000000</td>\n    </tr>\n    <tr>\n      <th>50%</th>\n      <td>2.000000</td>\n      <td>0.000000</td>\n      <td>1.000000</td>\n      <td>2.000000</td>\n      <td>0.000000</td>\n      <td>57.000000</td>\n      <td>2018.000000</td>\n      <td>8.000000</td>\n      <td>16.000000</td>\n      <td>0.000000</td>\n      <td>0.000000</td>\n      <td>0.000000</td>\n      <td>99.450000</td>\n      <td>0.000000</td>\n    </tr>\n    <tr>\n      <th>75%</th>\n      <td>2.000000</td>\n      <td>0.000000</td>\n      <td>2.000000</td>\n      <td>3.000000</td>\n      <td>0.000000</td>\n      <td>126.000000</td>\n      <td>2018.000000</td>\n      <td>10.000000</td>\n      <td>23.000000</td>\n      <td>0.000000</td>\n      <td>0.000000</td>\n      <td>0.000000</td>\n      <td>120.000000</td>\n      <td>1.000000</td>\n    </tr>\n    <tr>\n      <th>max</th>\n      <td>4.000000</td>\n      <td>10.000000</td>\n      <td>7.000000</td>\n      <td>17.000000</td>\n      <td>1.000000</td>\n      <td>443.000000</td>\n      <td>2018.000000</td>\n      <td>12.000000</td>\n      <td>31.000000</td>\n      <td>1.000000</td>\n      <td>13.000000</td>\n      <td>58.000000</td>\n      <td>540.000000</td>\n      <td>5.000000</td>\n    </tr>\n  </tbody>\n</table>\n</div>"
     },
     "execution_count": 40,
     "metadata": {},
     "output_type": "execute_result"
    }
   ],
   "source": [
    "# Get some statistics about the data set\n",
    "df.describe()"
   ],
   "metadata": {
    "collapsed": false
   }
  },
  {
   "cell_type": "code",
   "execution_count": 41,
   "outputs": [
    {
     "data": {
      "text/plain": "Booking_ID                              0\nno_of_adults                            0\nno_of_children                          0\nno_of_weekend_nights                    0\nno_of_week_nights                       0\ntype_of_meal_plan                       0\nrequired_car_parking_space              0\nroom_type_reserved                      0\nlead_time                               0\narrival_year                            0\narrival_month                           0\narrival_date                            0\nmarket_segment_type                     0\nrepeated_guest                          0\nno_of_previous_cancellations            0\nno_of_previous_bookings_not_canceled    0\navg_price_per_room                      0\nno_of_special_requests                  0\nbooking_status                          0\ndtype: int64"
     },
     "execution_count": 41,
     "metadata": {},
     "output_type": "execute_result"
    }
   ],
   "source": [
    "# Check for any missing values\n",
    "df.isnull().sum()"
   ],
   "metadata": {
    "collapsed": false
   }
  },
  {
   "cell_type": "code",
   "execution_count": 42,
   "outputs": [
    {
     "data": {
      "text/plain": "       no_of_adults  no_of_children  no_of_weekend_nights  no_of_week_nights  \\\n0                 2               0                     1                  2   \n1                 2               0                     2                  3   \n2                 1               0                     2                  1   \n3                 2               0                     0                  2   \n4                 2               0                     1                  1   \n...             ...             ...                   ...                ...   \n36270             3               0                     2                  6   \n36271             2               0                     1                  3   \n36272             2               0                     2                  6   \n36273             2               0                     0                  3   \n36274             2               0                     1                  2   \n\n      type_of_meal_plan  required_car_parking_space room_type_reserved  \\\n0           Meal Plan 1                           0        Room_Type 1   \n1          Not Selected                           0        Room_Type 1   \n2           Meal Plan 1                           0        Room_Type 1   \n3           Meal Plan 1                           0        Room_Type 1   \n4          Not Selected                           0        Room_Type 1   \n...                 ...                         ...                ...   \n36270       Meal Plan 1                           0        Room_Type 4   \n36271       Meal Plan 1                           0        Room_Type 1   \n36272       Meal Plan 1                           0        Room_Type 1   \n36273      Not Selected                           0        Room_Type 1   \n36274       Meal Plan 1                           0        Room_Type 1   \n\n       lead_time  arrival_year  arrival_month  arrival_date  \\\n0            224          2017             10             2   \n1              5          2018             11             6   \n2              1          2018              2            28   \n3            211          2018              5            20   \n4             48          2018              4            11   \n...          ...           ...            ...           ...   \n36270         85          2018              8             3   \n36271        228          2018             10            17   \n36272        148          2018              7             1   \n36273         63          2018              4            21   \n36274        207          2018             12            30   \n\n      market_segment_type  repeated_guest  no_of_previous_cancellations  \\\n0                 Offline               0                             0   \n1                  Online               0                             0   \n2                  Online               0                             0   \n3                  Online               0                             0   \n4                  Online               0                             0   \n...                   ...             ...                           ...   \n36270              Online               0                             0   \n36271              Online               0                             0   \n36272              Online               0                             0   \n36273              Online               0                             0   \n36274             Offline               0                             0   \n\n       no_of_previous_bookings_not_canceled  avg_price_per_room  \\\n0                                         0               65.00   \n1                                         0              106.68   \n2                                         0               60.00   \n3                                         0              100.00   \n4                                         0               94.50   \n...                                     ...                 ...   \n36270                                     0              167.80   \n36271                                     0               90.95   \n36272                                     0               98.39   \n36273                                     0               94.50   \n36274                                     0              161.67   \n\n       no_of_special_requests booking_status  \n0                           0   Not_Canceled  \n1                           1   Not_Canceled  \n2                           0       Canceled  \n3                           0       Canceled  \n4                           0       Canceled  \n...                       ...            ...  \n36270                       1   Not_Canceled  \n36271                       2       Canceled  \n36272                       2   Not_Canceled  \n36273                       0       Canceled  \n36274                       0   Not_Canceled  \n\n[36275 rows x 18 columns]",
      "text/html": "<div>\n<style scoped>\n    .dataframe tbody tr th:only-of-type {\n        vertical-align: middle;\n    }\n\n    .dataframe tbody tr th {\n        vertical-align: top;\n    }\n\n    .dataframe thead th {\n        text-align: right;\n    }\n</style>\n<table border=\"1\" class=\"dataframe\">\n  <thead>\n    <tr style=\"text-align: right;\">\n      <th></th>\n      <th>no_of_adults</th>\n      <th>no_of_children</th>\n      <th>no_of_weekend_nights</th>\n      <th>no_of_week_nights</th>\n      <th>type_of_meal_plan</th>\n      <th>required_car_parking_space</th>\n      <th>room_type_reserved</th>\n      <th>lead_time</th>\n      <th>arrival_year</th>\n      <th>arrival_month</th>\n      <th>arrival_date</th>\n      <th>market_segment_type</th>\n      <th>repeated_guest</th>\n      <th>no_of_previous_cancellations</th>\n      <th>no_of_previous_bookings_not_canceled</th>\n      <th>avg_price_per_room</th>\n      <th>no_of_special_requests</th>\n      <th>booking_status</th>\n    </tr>\n  </thead>\n  <tbody>\n    <tr>\n      <th>0</th>\n      <td>2</td>\n      <td>0</td>\n      <td>1</td>\n      <td>2</td>\n      <td>Meal Plan 1</td>\n      <td>0</td>\n      <td>Room_Type 1</td>\n      <td>224</td>\n      <td>2017</td>\n      <td>10</td>\n      <td>2</td>\n      <td>Offline</td>\n      <td>0</td>\n      <td>0</td>\n      <td>0</td>\n      <td>65.00</td>\n      <td>0</td>\n      <td>Not_Canceled</td>\n    </tr>\n    <tr>\n      <th>1</th>\n      <td>2</td>\n      <td>0</td>\n      <td>2</td>\n      <td>3</td>\n      <td>Not Selected</td>\n      <td>0</td>\n      <td>Room_Type 1</td>\n      <td>5</td>\n      <td>2018</td>\n      <td>11</td>\n      <td>6</td>\n      <td>Online</td>\n      <td>0</td>\n      <td>0</td>\n      <td>0</td>\n      <td>106.68</td>\n      <td>1</td>\n      <td>Not_Canceled</td>\n    </tr>\n    <tr>\n      <th>2</th>\n      <td>1</td>\n      <td>0</td>\n      <td>2</td>\n      <td>1</td>\n      <td>Meal Plan 1</td>\n      <td>0</td>\n      <td>Room_Type 1</td>\n      <td>1</td>\n      <td>2018</td>\n      <td>2</td>\n      <td>28</td>\n      <td>Online</td>\n      <td>0</td>\n      <td>0</td>\n      <td>0</td>\n      <td>60.00</td>\n      <td>0</td>\n      <td>Canceled</td>\n    </tr>\n    <tr>\n      <th>3</th>\n      <td>2</td>\n      <td>0</td>\n      <td>0</td>\n      <td>2</td>\n      <td>Meal Plan 1</td>\n      <td>0</td>\n      <td>Room_Type 1</td>\n      <td>211</td>\n      <td>2018</td>\n      <td>5</td>\n      <td>20</td>\n      <td>Online</td>\n      <td>0</td>\n      <td>0</td>\n      <td>0</td>\n      <td>100.00</td>\n      <td>0</td>\n      <td>Canceled</td>\n    </tr>\n    <tr>\n      <th>4</th>\n      <td>2</td>\n      <td>0</td>\n      <td>1</td>\n      <td>1</td>\n      <td>Not Selected</td>\n      <td>0</td>\n      <td>Room_Type 1</td>\n      <td>48</td>\n      <td>2018</td>\n      <td>4</td>\n      <td>11</td>\n      <td>Online</td>\n      <td>0</td>\n      <td>0</td>\n      <td>0</td>\n      <td>94.50</td>\n      <td>0</td>\n      <td>Canceled</td>\n    </tr>\n    <tr>\n      <th>...</th>\n      <td>...</td>\n      <td>...</td>\n      <td>...</td>\n      <td>...</td>\n      <td>...</td>\n      <td>...</td>\n      <td>...</td>\n      <td>...</td>\n      <td>...</td>\n      <td>...</td>\n      <td>...</td>\n      <td>...</td>\n      <td>...</td>\n      <td>...</td>\n      <td>...</td>\n      <td>...</td>\n      <td>...</td>\n      <td>...</td>\n    </tr>\n    <tr>\n      <th>36270</th>\n      <td>3</td>\n      <td>0</td>\n      <td>2</td>\n      <td>6</td>\n      <td>Meal Plan 1</td>\n      <td>0</td>\n      <td>Room_Type 4</td>\n      <td>85</td>\n      <td>2018</td>\n      <td>8</td>\n      <td>3</td>\n      <td>Online</td>\n      <td>0</td>\n      <td>0</td>\n      <td>0</td>\n      <td>167.80</td>\n      <td>1</td>\n      <td>Not_Canceled</td>\n    </tr>\n    <tr>\n      <th>36271</th>\n      <td>2</td>\n      <td>0</td>\n      <td>1</td>\n      <td>3</td>\n      <td>Meal Plan 1</td>\n      <td>0</td>\n      <td>Room_Type 1</td>\n      <td>228</td>\n      <td>2018</td>\n      <td>10</td>\n      <td>17</td>\n      <td>Online</td>\n      <td>0</td>\n      <td>0</td>\n      <td>0</td>\n      <td>90.95</td>\n      <td>2</td>\n      <td>Canceled</td>\n    </tr>\n    <tr>\n      <th>36272</th>\n      <td>2</td>\n      <td>0</td>\n      <td>2</td>\n      <td>6</td>\n      <td>Meal Plan 1</td>\n      <td>0</td>\n      <td>Room_Type 1</td>\n      <td>148</td>\n      <td>2018</td>\n      <td>7</td>\n      <td>1</td>\n      <td>Online</td>\n      <td>0</td>\n      <td>0</td>\n      <td>0</td>\n      <td>98.39</td>\n      <td>2</td>\n      <td>Not_Canceled</td>\n    </tr>\n    <tr>\n      <th>36273</th>\n      <td>2</td>\n      <td>0</td>\n      <td>0</td>\n      <td>3</td>\n      <td>Not Selected</td>\n      <td>0</td>\n      <td>Room_Type 1</td>\n      <td>63</td>\n      <td>2018</td>\n      <td>4</td>\n      <td>21</td>\n      <td>Online</td>\n      <td>0</td>\n      <td>0</td>\n      <td>0</td>\n      <td>94.50</td>\n      <td>0</td>\n      <td>Canceled</td>\n    </tr>\n    <tr>\n      <th>36274</th>\n      <td>2</td>\n      <td>0</td>\n      <td>1</td>\n      <td>2</td>\n      <td>Meal Plan 1</td>\n      <td>0</td>\n      <td>Room_Type 1</td>\n      <td>207</td>\n      <td>2018</td>\n      <td>12</td>\n      <td>30</td>\n      <td>Offline</td>\n      <td>0</td>\n      <td>0</td>\n      <td>0</td>\n      <td>161.67</td>\n      <td>0</td>\n      <td>Not_Canceled</td>\n    </tr>\n  </tbody>\n</table>\n<p>36275 rows × 18 columns</p>\n</div>"
     },
     "execution_count": 42,
     "metadata": {},
     "output_type": "execute_result"
    }
   ],
   "source": [
    "# Because the Booking_ID column is different for every single row, it is\n",
    "# likely to not have statistical significance as there are no relationships\n",
    "# to it besides only from the row it's associated with. We can go ahead\n",
    "# and drop it.\n",
    "\n",
    "df.drop('Booking_ID', axis=1)"
   ],
   "metadata": {
    "collapsed": false
   }
  },
  {
   "cell_type": "code",
   "execution_count": 43,
   "outputs": [
    {
     "data": {
      "text/plain": "  Booking_ID  no_of_adults  no_of_children  no_of_weekend_nights  \\\n0   INN00001             2               0                     1   \n1   INN00002             2               0                     2   \n2   INN00003             1               0                     2   \n3   INN00004             2               0                     0   \n4   INN00005             2               0                     1   \n\n   no_of_week_nights type_of_meal_plan  required_car_parking_space  \\\n0                  2       Meal Plan 1                           0   \n1                  3      Not Selected                           0   \n2                  1       Meal Plan 1                           0   \n3                  2       Meal Plan 1                           0   \n4                  1      Not Selected                           0   \n\n  room_type_reserved  lead_time  arrival_year  arrival_month  arrival_date  \\\n0        Room_Type 1        224          2017             10             2   \n1        Room_Type 1          5          2018             11             6   \n2        Room_Type 1          1          2018              2            28   \n3        Room_Type 1        211          2018              5            20   \n4        Room_Type 1         48          2018              4            11   \n\n  market_segment_type  repeated_guest  no_of_previous_cancellations  \\\n0             Offline               0                             0   \n1              Online               0                             0   \n2              Online               0                             0   \n3              Online               0                             0   \n4              Online               0                             0   \n\n   no_of_previous_bookings_not_canceled  avg_price_per_room  \\\n0                                     0               65.00   \n1                                     0              106.68   \n2                                     0               60.00   \n3                                     0              100.00   \n4                                     0               94.50   \n\n   no_of_special_requests  booking_status  \n0                       0               1  \n1                       1               1  \n2                       0               0  \n3                       0               0  \n4                       0               0  ",
      "text/html": "<div>\n<style scoped>\n    .dataframe tbody tr th:only-of-type {\n        vertical-align: middle;\n    }\n\n    .dataframe tbody tr th {\n        vertical-align: top;\n    }\n\n    .dataframe thead th {\n        text-align: right;\n    }\n</style>\n<table border=\"1\" class=\"dataframe\">\n  <thead>\n    <tr style=\"text-align: right;\">\n      <th></th>\n      <th>Booking_ID</th>\n      <th>no_of_adults</th>\n      <th>no_of_children</th>\n      <th>no_of_weekend_nights</th>\n      <th>no_of_week_nights</th>\n      <th>type_of_meal_plan</th>\n      <th>required_car_parking_space</th>\n      <th>room_type_reserved</th>\n      <th>lead_time</th>\n      <th>arrival_year</th>\n      <th>arrival_month</th>\n      <th>arrival_date</th>\n      <th>market_segment_type</th>\n      <th>repeated_guest</th>\n      <th>no_of_previous_cancellations</th>\n      <th>no_of_previous_bookings_not_canceled</th>\n      <th>avg_price_per_room</th>\n      <th>no_of_special_requests</th>\n      <th>booking_status</th>\n    </tr>\n  </thead>\n  <tbody>\n    <tr>\n      <th>0</th>\n      <td>INN00001</td>\n      <td>2</td>\n      <td>0</td>\n      <td>1</td>\n      <td>2</td>\n      <td>Meal Plan 1</td>\n      <td>0</td>\n      <td>Room_Type 1</td>\n      <td>224</td>\n      <td>2017</td>\n      <td>10</td>\n      <td>2</td>\n      <td>Offline</td>\n      <td>0</td>\n      <td>0</td>\n      <td>0</td>\n      <td>65.00</td>\n      <td>0</td>\n      <td>1</td>\n    </tr>\n    <tr>\n      <th>1</th>\n      <td>INN00002</td>\n      <td>2</td>\n      <td>0</td>\n      <td>2</td>\n      <td>3</td>\n      <td>Not Selected</td>\n      <td>0</td>\n      <td>Room_Type 1</td>\n      <td>5</td>\n      <td>2018</td>\n      <td>11</td>\n      <td>6</td>\n      <td>Online</td>\n      <td>0</td>\n      <td>0</td>\n      <td>0</td>\n      <td>106.68</td>\n      <td>1</td>\n      <td>1</td>\n    </tr>\n    <tr>\n      <th>2</th>\n      <td>INN00003</td>\n      <td>1</td>\n      <td>0</td>\n      <td>2</td>\n      <td>1</td>\n      <td>Meal Plan 1</td>\n      <td>0</td>\n      <td>Room_Type 1</td>\n      <td>1</td>\n      <td>2018</td>\n      <td>2</td>\n      <td>28</td>\n      <td>Online</td>\n      <td>0</td>\n      <td>0</td>\n      <td>0</td>\n      <td>60.00</td>\n      <td>0</td>\n      <td>0</td>\n    </tr>\n    <tr>\n      <th>3</th>\n      <td>INN00004</td>\n      <td>2</td>\n      <td>0</td>\n      <td>0</td>\n      <td>2</td>\n      <td>Meal Plan 1</td>\n      <td>0</td>\n      <td>Room_Type 1</td>\n      <td>211</td>\n      <td>2018</td>\n      <td>5</td>\n      <td>20</td>\n      <td>Online</td>\n      <td>0</td>\n      <td>0</td>\n      <td>0</td>\n      <td>100.00</td>\n      <td>0</td>\n      <td>0</td>\n    </tr>\n    <tr>\n      <th>4</th>\n      <td>INN00005</td>\n      <td>2</td>\n      <td>0</td>\n      <td>1</td>\n      <td>1</td>\n      <td>Not Selected</td>\n      <td>0</td>\n      <td>Room_Type 1</td>\n      <td>48</td>\n      <td>2018</td>\n      <td>4</td>\n      <td>11</td>\n      <td>Online</td>\n      <td>0</td>\n      <td>0</td>\n      <td>0</td>\n      <td>94.50</td>\n      <td>0</td>\n      <td>0</td>\n    </tr>\n  </tbody>\n</table>\n</div>"
     },
     "execution_count": 43,
     "metadata": {},
     "output_type": "execute_result"
    }
   ],
   "source": [
    "# Encode class labels\n",
    "\n",
    "# Find the unique class label values (should be 'Canceled' and\n",
    "# 'Not Canceled'), and transform the dataframe to include those\n",
    "bk_status_mapping = {\n",
    "    label: idx for idx, label in enumerate(np.unique(df.booking_status))\n",
    "}\n",
    "df.booking_status: Series = df.booking_status.map(bk_status_mapping)\n",
    "df.head()"
   ],
   "metadata": {
    "collapsed": false
   }
  },
  {
   "cell_type": "code",
   "execution_count": 44,
   "outputs": [
    {
     "data": {
      "text/plain": "       arrival_year  type_of_meal_plan_Meal Plan 1  \\\n0              2017                              1   \n1              2018                              0   \n2              2018                              1   \n3              2018                              1   \n4              2018                              0   \n...             ...                            ...   \n36270          2018                              1   \n36271          2018                              1   \n36272          2018                              1   \n36273          2018                              0   \n36274          2018                              1   \n\n       type_of_meal_plan_Meal Plan 2  type_of_meal_plan_Meal Plan 3  \\\n0                                  0                              0   \n1                                  0                              0   \n2                                  0                              0   \n3                                  0                              0   \n4                                  0                              0   \n...                              ...                            ...   \n36270                              0                              0   \n36271                              0                              0   \n36272                              0                              0   \n36273                              0                              0   \n36274                              0                              0   \n\n       type_of_meal_plan_Not Selected  room_type_reserved_Room_Type 1  \\\n0                                   0                               1   \n1                                   1                               1   \n2                                   0                               1   \n3                                   0                               1   \n4                                   1                               1   \n...                               ...                             ...   \n36270                               0                               0   \n36271                               0                               1   \n36272                               0                               1   \n36273                               1                               1   \n36274                               0                               1   \n\n       room_type_reserved_Room_Type 2  room_type_reserved_Room_Type 3  \\\n0                                   0                               0   \n1                                   0                               0   \n2                                   0                               0   \n3                                   0                               0   \n4                                   0                               0   \n...                               ...                             ...   \n36270                               0                               0   \n36271                               0                               0   \n36272                               0                               0   \n36273                               0                               0   \n36274                               0                               0   \n\n       room_type_reserved_Room_Type 4  room_type_reserved_Room_Type 5  \\\n0                                   0                               0   \n1                                   0                               0   \n2                                   0                               0   \n3                                   0                               0   \n4                                   0                               0   \n...                               ...                             ...   \n36270                               1                               0   \n36271                               0                               0   \n36272                               0                               0   \n36273                               0                               0   \n36274                               0                               0   \n\n       room_type_reserved_Room_Type 6  room_type_reserved_Room_Type 7  \\\n0                                   0                               0   \n1                                   0                               0   \n2                                   0                               0   \n3                                   0                               0   \n4                                   0                               0   \n...                               ...                             ...   \n36270                               0                               0   \n36271                               0                               0   \n36272                               0                               0   \n36273                               0                               0   \n36274                               0                               0   \n\n       market_segment_type_Aviation  market_segment_type_Complementary  \\\n0                                 0                                  0   \n1                                 0                                  0   \n2                                 0                                  0   \n3                                 0                                  0   \n4                                 0                                  0   \n...                             ...                                ...   \n36270                             0                                  0   \n36271                             0                                  0   \n36272                             0                                  0   \n36273                             0                                  0   \n36274                             0                                  0   \n\n       market_segment_type_Corporate  market_segment_type_Offline  \\\n0                                  0                            1   \n1                                  0                            0   \n2                                  0                            0   \n3                                  0                            0   \n4                                  0                            0   \n...                              ...                          ...   \n36270                              0                            0   \n36271                              0                            0   \n36272                              0                            0   \n36273                              0                            0   \n36274                              0                            1   \n\n       market_segment_type_Online  \n0                               0  \n1                               1  \n2                               1  \n3                               1  \n4                               1  \n...                           ...  \n36270                           1  \n36271                           1  \n36272                           1  \n36273                           1  \n36274                           0  \n\n[36275 rows x 17 columns]",
      "text/html": "<div>\n<style scoped>\n    .dataframe tbody tr th:only-of-type {\n        vertical-align: middle;\n    }\n\n    .dataframe tbody tr th {\n        vertical-align: top;\n    }\n\n    .dataframe thead th {\n        text-align: right;\n    }\n</style>\n<table border=\"1\" class=\"dataframe\">\n  <thead>\n    <tr style=\"text-align: right;\">\n      <th></th>\n      <th>arrival_year</th>\n      <th>type_of_meal_plan_Meal Plan 1</th>\n      <th>type_of_meal_plan_Meal Plan 2</th>\n      <th>type_of_meal_plan_Meal Plan 3</th>\n      <th>type_of_meal_plan_Not Selected</th>\n      <th>room_type_reserved_Room_Type 1</th>\n      <th>room_type_reserved_Room_Type 2</th>\n      <th>room_type_reserved_Room_Type 3</th>\n      <th>room_type_reserved_Room_Type 4</th>\n      <th>room_type_reserved_Room_Type 5</th>\n      <th>room_type_reserved_Room_Type 6</th>\n      <th>room_type_reserved_Room_Type 7</th>\n      <th>market_segment_type_Aviation</th>\n      <th>market_segment_type_Complementary</th>\n      <th>market_segment_type_Corporate</th>\n      <th>market_segment_type_Offline</th>\n      <th>market_segment_type_Online</th>\n    </tr>\n  </thead>\n  <tbody>\n    <tr>\n      <th>0</th>\n      <td>2017</td>\n      <td>1</td>\n      <td>0</td>\n      <td>0</td>\n      <td>0</td>\n      <td>1</td>\n      <td>0</td>\n      <td>0</td>\n      <td>0</td>\n      <td>0</td>\n      <td>0</td>\n      <td>0</td>\n      <td>0</td>\n      <td>0</td>\n      <td>0</td>\n      <td>1</td>\n      <td>0</td>\n    </tr>\n    <tr>\n      <th>1</th>\n      <td>2018</td>\n      <td>0</td>\n      <td>0</td>\n      <td>0</td>\n      <td>1</td>\n      <td>1</td>\n      <td>0</td>\n      <td>0</td>\n      <td>0</td>\n      <td>0</td>\n      <td>0</td>\n      <td>0</td>\n      <td>0</td>\n      <td>0</td>\n      <td>0</td>\n      <td>0</td>\n      <td>1</td>\n    </tr>\n    <tr>\n      <th>2</th>\n      <td>2018</td>\n      <td>1</td>\n      <td>0</td>\n      <td>0</td>\n      <td>0</td>\n      <td>1</td>\n      <td>0</td>\n      <td>0</td>\n      <td>0</td>\n      <td>0</td>\n      <td>0</td>\n      <td>0</td>\n      <td>0</td>\n      <td>0</td>\n      <td>0</td>\n      <td>0</td>\n      <td>1</td>\n    </tr>\n    <tr>\n      <th>3</th>\n      <td>2018</td>\n      <td>1</td>\n      <td>0</td>\n      <td>0</td>\n      <td>0</td>\n      <td>1</td>\n      <td>0</td>\n      <td>0</td>\n      <td>0</td>\n      <td>0</td>\n      <td>0</td>\n      <td>0</td>\n      <td>0</td>\n      <td>0</td>\n      <td>0</td>\n      <td>0</td>\n      <td>1</td>\n    </tr>\n    <tr>\n      <th>4</th>\n      <td>2018</td>\n      <td>0</td>\n      <td>0</td>\n      <td>0</td>\n      <td>1</td>\n      <td>1</td>\n      <td>0</td>\n      <td>0</td>\n      <td>0</td>\n      <td>0</td>\n      <td>0</td>\n      <td>0</td>\n      <td>0</td>\n      <td>0</td>\n      <td>0</td>\n      <td>0</td>\n      <td>1</td>\n    </tr>\n    <tr>\n      <th>...</th>\n      <td>...</td>\n      <td>...</td>\n      <td>...</td>\n      <td>...</td>\n      <td>...</td>\n      <td>...</td>\n      <td>...</td>\n      <td>...</td>\n      <td>...</td>\n      <td>...</td>\n      <td>...</td>\n      <td>...</td>\n      <td>...</td>\n      <td>...</td>\n      <td>...</td>\n      <td>...</td>\n      <td>...</td>\n    </tr>\n    <tr>\n      <th>36270</th>\n      <td>2018</td>\n      <td>1</td>\n      <td>0</td>\n      <td>0</td>\n      <td>0</td>\n      <td>0</td>\n      <td>0</td>\n      <td>0</td>\n      <td>1</td>\n      <td>0</td>\n      <td>0</td>\n      <td>0</td>\n      <td>0</td>\n      <td>0</td>\n      <td>0</td>\n      <td>0</td>\n      <td>1</td>\n    </tr>\n    <tr>\n      <th>36271</th>\n      <td>2018</td>\n      <td>1</td>\n      <td>0</td>\n      <td>0</td>\n      <td>0</td>\n      <td>1</td>\n      <td>0</td>\n      <td>0</td>\n      <td>0</td>\n      <td>0</td>\n      <td>0</td>\n      <td>0</td>\n      <td>0</td>\n      <td>0</td>\n      <td>0</td>\n      <td>0</td>\n      <td>1</td>\n    </tr>\n    <tr>\n      <th>36272</th>\n      <td>2018</td>\n      <td>1</td>\n      <td>0</td>\n      <td>0</td>\n      <td>0</td>\n      <td>1</td>\n      <td>0</td>\n      <td>0</td>\n      <td>0</td>\n      <td>0</td>\n      <td>0</td>\n      <td>0</td>\n      <td>0</td>\n      <td>0</td>\n      <td>0</td>\n      <td>0</td>\n      <td>1</td>\n    </tr>\n    <tr>\n      <th>36273</th>\n      <td>2018</td>\n      <td>0</td>\n      <td>0</td>\n      <td>0</td>\n      <td>1</td>\n      <td>1</td>\n      <td>0</td>\n      <td>0</td>\n      <td>0</td>\n      <td>0</td>\n      <td>0</td>\n      <td>0</td>\n      <td>0</td>\n      <td>0</td>\n      <td>0</td>\n      <td>0</td>\n      <td>1</td>\n    </tr>\n    <tr>\n      <th>36274</th>\n      <td>2018</td>\n      <td>1</td>\n      <td>0</td>\n      <td>0</td>\n      <td>0</td>\n      <td>1</td>\n      <td>0</td>\n      <td>0</td>\n      <td>0</td>\n      <td>0</td>\n      <td>0</td>\n      <td>0</td>\n      <td>0</td>\n      <td>0</td>\n      <td>0</td>\n      <td>1</td>\n      <td>0</td>\n    </tr>\n  </tbody>\n</table>\n<p>36275 rows × 17 columns</p>\n</div>"
     },
     "execution_count": 44,
     "metadata": {},
     "output_type": "execute_result"
    }
   ],
   "source": [
    "# Now lets one-hot encode any ordinal categorical features such as\n",
    "# type_of_meal_plan, room_type_reserved, arrival_year, market_segment_type\n",
    "\n",
    "# TODO: Wali\n",
    "# Are months & days also nominal data? Check back on this\n",
    "pd.get_dummies(df[['type_of_meal_plan', 'room_type_reserved', 'arrival_year', 'market_segment_type']])\n"
   ],
   "metadata": {
    "collapsed": false
   }
  },
  {
   "cell_type": "code",
   "execution_count": 44,
   "outputs": [],
   "source": [],
   "metadata": {
    "collapsed": false
   }
  },
  {
   "cell_type": "code",
   "execution_count": 44,
   "outputs": [],
   "source": [],
   "metadata": {
    "collapsed": false
   }
  }
 ],
 "metadata": {
  "kernelspec": {
   "display_name": "Python 3 (ipykernel)",
   "language": "python",
   "name": "python3"
  },
  "language_info": {
   "codemirror_mode": {
    "name": "ipython",
    "version": 3
   },
   "file_extension": ".py",
   "mimetype": "text/x-python",
   "name": "python",
   "nbconvert_exporter": "python",
   "pygments_lexer": "ipython3",
   "version": "3.8.3"
  },
  "vscode": {
   "interpreter": {
    "hash": "aee8b7b246df8f9039afb4144a1f6fd8d2ca17a180786b69acc140d282b71a49"
   }
  }
 },
 "nbformat": 4,
 "nbformat_minor": 4
}
